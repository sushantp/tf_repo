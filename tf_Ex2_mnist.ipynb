{
  "nbformat": 4,
  "nbformat_minor": 0,
  "metadata": {
    "colab": {
      "name": "tf_Ex2_mnist.ipynb",
      "version": "0.3.2",
      "provenance": [],
      "include_colab_link": true
    },
    "kernelspec": {
      "name": "python3",
      "display_name": "Python 3"
    }
  },
  "cells": [
    {
      "cell_type": "markdown",
      "metadata": {
        "id": "view-in-github",
        "colab_type": "text"
      },
      "source": [
        "<a href=\"https://colab.research.google.com/github/sushantp/tf_repo/blob/master/tf_Ex2_mnist.ipynb\" target=\"_parent\"><img src=\"https://colab.research.google.com/assets/colab-badge.svg\" alt=\"Open In Colab\"/></a>"
      ]
    },
    {
      "metadata": {
        "id": "2-57akt9Ua73",
        "colab_type": "code",
        "colab": {}
      },
      "cell_type": "code",
      "source": [
        "import tensorflow as tf\n",
        "import numpy as np\n",
        "import matplotlib.pyplot as plt\n",
        "%config InlineBackend.figure_format = 'svg'"
      ],
      "execution_count": 0,
      "outputs": []
    },
    {
      "metadata": {
        "id": "rsaT_nhQUsRR",
        "colab_type": "code",
        "colab": {}
      },
      "cell_type": "code",
      "source": [
        "(x_train, y_train), (x_test, y_test)= tf.keras.datasets.mnist.load_data()"
      ],
      "execution_count": 0,
      "outputs": []
    },
    {
      "metadata": {
        "id": "sn2MKnj6Vrk4",
        "colab_type": "code",
        "colab": {
          "base_uri": "https://localhost:8080/",
          "height": 194
        },
        "outputId": "887b79b9-9c71-4573-b0c3-1e4ec720ece2"
      },
      "cell_type": "code",
      "source": [
        "fig, axes = plt.subplots(1, 4, figsize=(7, 3))\n",
        "for img, label, ax in zip(x_train[:4], y_train[:4], axes):\n",
        "  ax.set_title(label)\n",
        "  ax.imshow(img)\n",
        "  ax.axis('off')\n",
        "  \n",
        "plt.show()"
      ],
      "execution_count": 14,
      "outputs": [
        {
          "output_type": "display_data",
          "data": {
            "text/plain": [
              "<matplotlib.figure.Figure at 0x7f1149f35518>"
            ],
            "image/svg+xml": "<?xml version=\"1.0\" encoding=\"utf-8\" standalone=\"no\"?>\n<!DOCTYPE svg PUBLIC \"-//W3C//DTD SVG 1.1//EN\"\n  \"http://www.w3.org/Graphics/SVG/1.1/DTD/svg11.dtd\">\n<!-- Created with matplotlib (http://matplotlib.org/) -->\n<svg height=\"130pt\" version=\"1.1\" viewBox=\"0 0 423 130\" width=\"423pt\" xmlns=\"http://www.w3.org/2000/svg\" xmlns:xlink=\"http://www.w3.org/1999/xlink\">\n <defs>\n  <style type=\"text/css\">\n*{stroke-linecap:butt;stroke-linejoin:round;}\n  </style>\n </defs>\n <g id=\"figure_1\">\n  <g id=\"patch_1\">\n   <path d=\"M 0 130.331168 \nL 423.121875 130.331168 \nL 423.121875 0 \nL 0 0 \nz\n\" style=\"fill:#ffffff;\"/>\n  </g>\n  <g id=\"axes_1\">\n   <g clip-path=\"url(#pe7e26442b2)\">\n    <image height=\"85\" id=\"image65ce96d456\" transform=\"scale(1 -1)translate(0 -85)\" width=\"85\" x=\"25.321875\" xlink:href=\"data:image/png;base64,\niVBORw0KGgoAAAANSUhEUgAAAFUAAABVCAYAAAA49ahaAAAABHNCSVQICAgIfAhkiAAAA8tJREFUeJztnE0odFEcxu/4JjbEWllYsJCPhbChJCtSSlkrFmLBglIoLCiKjULKQhELO+woYiEWkhURSvmKfISxeh9nau7LnZnHXHp+q9809545Pf3/3Dv3nPF4vV6vJUJKRLgn8BdRqAQUKgGFSkChElCoBBQqAYVKIMrpCUNDQ/D29vYvj8/NzYXX1dV9fnDU50c3NDTA4+LinE7JdahSCShUAh6n9/5HR0fwvr4++OrqKvz4+NjRJBISEuC9vb3wpqYmeExMjKMxw4kqlYBCJeC4/e14fHyEt7S0wNfX1+EHBweOxqysrIR3dXX5vJeTkwOPjo52NC4bVSoBhUogZO1vx8PDA/zk5AReX18P39nZcTxueXk5vLu7G15QUAD3eDyOxw0FqlQCCpUAvf3tuL+/hy8tLcF7enrgh4eHjsctLS2FDwwMwPPy8hyPFSiqVAIKlUDY2t+Oy8tL+NjYGHxqasrnuNPT0y/HioyMhNfW1sJnZmaCmeKXqFIJKFQCrmt/O87OznxeLywswDc2NuCzs7N+zy8sLISvra3BGTcIqlQCCpXAr2n/7xIbGwt/fX2Fmw8a9/b24JmZmSGfgyqVgEIl4Pi5v1t4enqCb25uwt/e3vweX1VVBWe0vIkqlYBCJfBr2v/8/NzndWtrK3xubs7vOZ2dnfC2tjbOxPygSiWgUAm4uv23trbgFRUVPu/d3t76PWdychJeU1MDT0xMDPHs7FGlElCoBBQqAdd9oXJ1dQXPyMiAJycn+xxn3iEVFRXBq6ur4VpM8YdQqARccUn18vICNzdV3N3dwc1HIJZlWdnZ2fyJBYgqlYBCJeCK9h8eHoYvLi7Czf/kWVlZPzqnYFClElCoBH60/Z+fn+Hmvqjr62u/xzc3N8PDdSEfCKpUAgqVAP3ef3t7Gz4/Pw831zaZ33uaFBcXw1dWVnzeM/98XFxcwEdGRuD9/f0BzDh4VKkEFCoBSvubWyrz8/PhTrdRmpj7pizLslJSUuDmskpzLZXdVQUbVSoBhUqA0v7mJgdzt/NPtGNExGedmFcM8fHxfo9PS0uDm09cU1NTA59DwGcKWxQqAfrFv7nowVzmuLu7C19eXobf3NzAx8fHg/rs9PR0eFlZGXxiYgKelJQELykpgQ8ODsKdLr1UpRJQqARc99z//f0dbn5V+D+mp6fh5o827O/vw82nCx0dHfDR0VG4eYVg/lJcY2Pjt+bxD1UqAYVKwHXt/xdQpRJQqAQUKgGFSkChElCoBBQqAYVKQKESUKgEFCoBhUpAoRJQqAQ+AGKzFf1fhk2tAAAAAElFTkSuQmCC\" y=\"-21.809293\"/>\n   </g>\n   <g id=\"text_1\">\n    <!-- 5 -->\n    <defs>\n     <path d=\"M 51.421875 22.40625 \nQ 51.421875 17.234375 49.859375 12.9375 \nQ 48.296875 8.640625 45.21875 5.53125 \nQ 42.140625 2.4375 37.578125 0.71875 \nQ 33.015625 -0.984375 27 -0.984375 \nQ 21.578125 -0.984375 17.546875 0.28125 \nQ 13.53125 1.5625 10.734375 3.78125 \nQ 7.953125 6 6.3125 8.984375 \nQ 4.6875 11.96875 4 15.375 \nL 12.890625 16.40625 \nQ 13.421875 14.453125 14.390625 12.625 \nQ 15.375 10.796875 17.0625 9.34375 \nQ 18.75 7.90625 21.21875 7.046875 \nQ 23.6875 6.203125 27.203125 6.203125 \nQ 30.609375 6.203125 33.390625 7.25 \nQ 36.1875 8.296875 38.15625 10.34375 \nQ 40.140625 12.40625 41.203125 15.375 \nQ 42.28125 18.359375 42.28125 22.21875 \nQ 42.28125 25.390625 41.25 28.046875 \nQ 40.234375 30.71875 38.328125 32.640625 \nQ 36.421875 34.578125 33.65625 35.640625 \nQ 30.90625 36.71875 27.390625 36.71875 \nQ 25.203125 36.71875 23.34375 36.328125 \nQ 21.484375 35.9375 19.890625 35.25 \nQ 18.3125 34.578125 17.015625 33.671875 \nQ 15.71875 32.765625 14.59375 31.78125 \nL 6 31.78125 \nL 8.296875 68.796875 \nL 47.40625 68.796875 \nL 47.40625 61.328125 \nL 16.3125 61.328125 \nL 14.984375 39.5 \nQ 17.328125 41.3125 20.84375 42.59375 \nQ 24.359375 43.890625 29.203125 43.890625 \nQ 34.328125 43.890625 38.421875 42.328125 \nQ 42.53125 40.765625 45.40625 37.90625 \nQ 48.296875 35.0625 49.859375 31.109375 \nQ 51.421875 27.15625 51.421875 22.40625 \nz\n\" id=\"LiberationSans-35\"/>\n    </defs>\n    <g style=\"fill:#262626;\" transform=\"translate(64.441834 15.89625)scale(0.12 -0.12)\">\n     <use xlink:href=\"#LiberationSans-35\"/>\n    </g>\n   </g>\n  </g>\n  <g id=\"axes_2\">\n   <g clip-path=\"url(#p70b3473006)\">\n    <image height=\"85\" id=\"image6f023916e2\" transform=\"scale(1 -1)translate(0 -85)\" width=\"85\" x=\"127.217527\" xlink:href=\"data:image/png;base64,\niVBORw0KGgoAAAANSUhEUgAAAFUAAABVCAYAAAA49ahaAAAABHNCSVQICAgIfAhkiAAABB9JREFUeJztm0sodGEYx88gyjWUjVyTnWShLNx2bKVcYqFkQS5JVigLsxCSELITWViwU7KRYiMWckkp9wULkgWR+Vbf3zM6k/PNvH/D1/Nb/TRn3vP697xzznnmHZfH4/FYilFCgj2B/xENlYCGSkBDJaChEtBQCWioBDRUAhoqAQ2VgIZKIIwx6NPTE3xubg7e3t4Oly0Hl8sFHxgYgDc1NcETExONz5OFVioBDZWAy1Tr7/HxEV5VVQVfX1+3Pd7X8pckJSXBm5ubvV7r6+vza57fgVYqAQ2VgLHlv729DS8qKvry+OTkZHhCQgJ8f3/f0fnKy8ttvbW11dH7mWilEtBQCVBu/iWhoaHwnp4eeGNjIzwmJgZ+cHAAn5mZgW9ubnqNu7q6Cj85OYEfHx/Du7q64BkZGf88d3/RSiWgoRIwdvXf2tqCy6t/eno6/PT01MSpLMuyrMXFRXhbWxv8/v4eLnsNo6Ojxs79FVqpBDRUAsau/vL5XXpDQ4OpU3hRW1sLLy4uhg8ODsLHx8fhsh05OztLmdNftFIJaKgE6M/+mZmZcHmTzuLt7Q0+NTUF7+zshKelpcFXVlbgOTk5RuaglUpAQyVAf/Z/fn6GyytwdHQ05XxhYR//kvy24PX1Fd7d3Q13u91w+SVleHi433PQSiWgoRIwdvXf29uDFxYWwl9eXuALCwvw6upqE6f1C9mOlA8qvb298P7+fr/H10oloKESMHb1z8vLg8tn8bW1NfjS0hI8mMv//f0dHhLyUVc7OztGxtdKJaChEtBQCVCeqCYnJ+HZ2dlw2byQzRV5zHcgP0d99YEDGt/IKIoXGioByvJPTU2F19fXw+fn5+EFBQXwjY0NeFZWFlw2QWJjY43Pk4VWKgENlQBl+cue5vDwMFwuYXmHUFZWBpd7nkZGRuDy44KFqf1WWqkENFQCxvqpTri+vobn5ubCHx4ebI+vq6uDf94AcXh4CN/d3YXX1NTAIyMjbceV/dSoqCi43MaZkpJi+14naKUS0FAJfOvyl1xeXsJlL1ZuhZRUVFR4/V1ZWQmXDxhy2crtnTc3N/D8/Hx4S0sLXN6RBIJWKgENlQB9M4Uv5DKVy3diYsL2eNk2tCzLWl5ehsuW3dXVFfzo6Ag+PT0N99X6M4VWKgENlUDQlr9kaGgILn8GKX8eeXZ25miskpISuLyxlx8XEnnnYQqtVAIaKoGg3fw74fz8HF5aWur12sXFBVxewePi4uARERHw29tbuPzSUe6qlj2BQNBKJaChEvjRy18i24aW5ax1KImPj4ff3d2Zm5gNWqkENFQCv2b5f0a2DsfGxuDy19Lyt1MdHR3wQLr6TtBKJaChEvi1y/8no5VKQEMloKES0FAJaKgENFQCGioBDZWAhkpAQyWgoRL4A3ZNJn06BKzOAAAAAElFTkSuQmCC\" y=\"-21.809293\"/>\n   </g>\n   <g id=\"text_2\">\n    <!-- 0 -->\n    <defs>\n     <path d=\"M 51.703125 34.421875 \nQ 51.703125 24.515625 49.828125 17.75 \nQ 47.953125 10.984375 44.703125 6.8125 \nQ 41.453125 2.640625 37.0625 0.828125 \nQ 32.671875 -0.984375 27.6875 -0.984375 \nQ 22.65625 -0.984375 18.3125 0.828125 \nQ 13.96875 2.640625 10.765625 6.78125 \nQ 7.5625 10.9375 5.734375 17.703125 \nQ 3.90625 24.46875 3.90625 34.421875 \nQ 3.90625 44.828125 5.734375 51.640625 \nQ 7.5625 58.453125 10.78125 62.5 \nQ 14.015625 66.546875 18.40625 68.1875 \nQ 22.796875 69.828125 27.984375 69.828125 \nQ 32.90625 69.828125 37.21875 68.1875 \nQ 41.546875 66.546875 44.765625 62.5 \nQ 48 58.453125 49.84375 51.640625 \nQ 51.703125 44.828125 51.703125 34.421875 \nz\nM 42.78125 34.421875 \nQ 42.78125 42.625 41.796875 48.0625 \nQ 40.828125 53.515625 38.921875 56.765625 \nQ 37.015625 60.015625 34.25 61.359375 \nQ 31.5 62.703125 27.984375 62.703125 \nQ 24.265625 62.703125 21.4375 61.328125 \nQ 18.609375 59.96875 16.671875 56.71875 \nQ 14.75 53.46875 13.765625 48.015625 \nQ 12.796875 42.578125 12.796875 34.421875 \nQ 12.796875 26.515625 13.796875 21.09375 \nQ 14.796875 15.671875 16.71875 12.375 \nQ 18.65625 9.078125 21.4375 7.640625 \nQ 24.21875 6.203125 27.78125 6.203125 \nQ 31.25 6.203125 34.03125 7.640625 \nQ 36.8125 9.078125 38.734375 12.375 \nQ 40.671875 15.671875 41.71875 21.09375 \nQ 42.78125 26.515625 42.78125 34.421875 \nz\n\" id=\"LiberationSans-30\"/>\n    </defs>\n    <g style=\"fill:#262626;\" transform=\"translate(166.337486 15.89625)scale(0.12 -0.12)\">\n     <use xlink:href=\"#LiberationSans-30\"/>\n    </g>\n   </g>\n  </g>\n  <g id=\"axes_3\">\n   <g clip-path=\"url(#p4e1e35ca14)\">\n    <image height=\"85\" id=\"image992475068c\" transform=\"scale(1 -1)translate(0 -85)\" width=\"85\" x=\"229.113179\" xlink:href=\"data:image/png;base64,\niVBORw0KGgoAAAANSUhEUgAAAFUAAABVCAYAAAA49ahaAAAABHNCSVQICAgIfAhkiAAAAypJREFUeJztnL9LcmEYhtWCwiIicFEkAsOCgmgRRZd+Tf0FtTs2ubQ4BA1BU1O0OblUQ0NLCDVVQxAN1eYgtJRrWUN+2/09gaAn3zv7zndf05XUeR9unkfPec/JYLPZbAaEU0K9LsCPKFQCCpWAQiWgUAkoVAIKlYBCJdDf6wJcU6lU4MvLy/DNzU349vY2tQZ1KgGFSsB34390dATv1baGOpWAQiXgu/G3BIPBnqyrTiWgUAn4evwtCwsLP7aWOpWAQiXg6/G3J/+h0M/1jzqVgEIl4Ovxtyf/4+PjP7auOpWAQiWgUAkoVAIKlYCvP/0tx8fH8EKhQF1LnUpAoRIIen3ot1Qqwc/Pz7+98NraGjyRSMAnJia+fcxAIBA4PT2Fr66uwqempuD39/ddrdEOdSoBhUqgo/EvFotw+8jM2NgYPJlMtl3s8vISbpft7/97EjI8PAxPpVLwbDb75Vi5XA4+NzcHHxoagsfjcfjLywv84+Ojba3doE4loFAJdHTy//r6Crdje3JyAk+n022P8/T0BP/8/IRfXFzAq9Uq3I7p7u7ul2Pt7OzA7civrKzA397eWq73/PwMj0Qibev2ijqVgEIloFAJdLWhMjo66un3o9Foy9fX19fb/u3W1taXn9/f3+E3Nzfwg4MDeKPRgNv31IeHB7jeU/8RFCqBrsb/+voaPj093XUxXhgYGIBnMpmWbt+e9vb24BsbG/Crqyv44OCgk9rUqQQUKoGOxn9mZqbl67e3t06LcY3d/Dk8PITf3d3B7VWbxv8Xo1AJdDT+dpMiHA7TinGN3WiZnZ2F242der0OHxkZcbKuOpWAQiXQ0fjba/ZYLEYrhom99WM5OzuD5/N5J2upUwkoVAKer/37+voYddDZ39+Hl8tluN0GdIU6lYBCJeB5/O222ePjo9NimNiHNOz3qdjvXHF1l1WdSkChEvA8/ouLi/D5+XmnxTCx/1M1OTkJr9VqztdSpxJQqAQ8P0ntB+wJ/9LSEtzeydCn/y9DoRL4L8efjTqVgEIloFAJKFQCCpWAQiWgUAkoVAIKlYBCJaBQCShUAgqVgEIl8AeEybgITmMiJgAAAABJRU5ErkJggg==\" y=\"-21.809293\"/>\n   </g>\n   <g id=\"text_3\">\n    <!-- 4 -->\n    <defs>\n     <path d=\"M 43.015625 15.578125 \nL 43.015625 0 \nL 34.71875 0 \nL 34.71875 15.578125 \nL 2.296875 15.578125 \nL 2.296875 22.40625 \nL 33.796875 68.796875 \nL 43.015625 68.796875 \nL 43.015625 22.515625 \nL 52.6875 22.515625 \nL 52.6875 15.578125 \nz\nM 34.71875 58.890625 \nQ 34.625 58.640625 34.234375 57.9375 \nQ 33.84375 57.234375 33.34375 56.34375 \nQ 32.859375 55.46875 32.34375 54.5625 \nQ 31.84375 53.65625 31.453125 53.078125 \nL 13.8125 27.09375 \nQ 13.578125 26.703125 13.109375 26.0625 \nQ 12.640625 25.4375 12.15625 24.78125 \nQ 11.671875 24.125 11.171875 23.484375 \nQ 10.6875 22.859375 10.40625 22.515625 \nL 34.71875 22.515625 \nz\n\" id=\"LiberationSans-34\"/>\n    </defs>\n    <g style=\"fill:#262626;\" transform=\"translate(268.233139 15.89625)scale(0.12 -0.12)\">\n     <use xlink:href=\"#LiberationSans-34\"/>\n    </g>\n   </g>\n  </g>\n  <g id=\"axes_4\">\n   <g clip-path=\"url(#p112e272fd0)\">\n    <image height=\"85\" id=\"imagefad481dde3\" transform=\"scale(1 -1)translate(0 -85)\" width=\"85\" x=\"331.008832\" xlink:href=\"data:image/png;base64,\niVBORw0KGgoAAAANSUhEUgAAAFUAAABVCAYAAAA49ahaAAAABHNCSVQICAgIfAhkiAAAAuRJREFUeJztnCFrcnEUxjcVEVQmiEHMU7PdMBCMA4vFYjMJ4oLFruiSQVDwCwgrsmKQBYOfQDZYEESTyGBOTHPpPZw7FPbiffQqzy89cu/Fw89zvF7/V6+32+32ipiK7dQFXCKUCoBSAVAqAEoFQKkAKBUApQJwoJ9gtVpJzmQyknu9nuRIJCJ5PB6jS4LDTgVAqQDg4z+bzSQ/Pz+jn84SsFMBUCoASgVAqQAoFQD87O/xeCSHQiHJ0+lU8mQykVytViUXi0XJDge8VNNgpwKgVADXx1z4e3h4kPz4+CjZZtv92i6XS8k3Nze4wkyGnQqAUgEcdfw1drtd8r7xHwwGkuPxOLwms2CnAqBUACcb/2AwKHmxWOzcJ5lMSn56ejJsczqdmMJMgJ0KgFIBnGz89YpAIpGQ/P7+vnP/bDZreNxqtTCFmQA7FQClAjjZ+GvK5bLkSqXyp2Pm87nkQCBgek2HwE4FQKkALDH+Hx8fkv1+/5+OKRQKkuv1uuk1HQI7FQClArDEaprP55M8Go0k62v/z89PwzH6IuHr60uy2+1GlPhfsFMBUCoASgVgiY9U+9B3W6dSKcO27+9vyel0WnKn05HscrmA1e2HnQqAUgFYevz1ldb9/b1h23A4lKxXYxuNhuRcLgesbj/sVACUCsDS469Zr9eGx16vV7Ief/2FzMvLi+RoNIor7hfsVACUCuBsxv83pVJJcq1W27mPvmDodrvwmv7BTgVAqQDOdvz196n6Zgx9k4am3+9Lvru7wxV2xU6FQKkAznb8NfqPF/Ro6x9ixGIxyfqtQC+/mPVbLXYqAEoFcBHjr2k2m5Lz+fzOffSqwevrq+Tb21tTamCnAqBUAJa4mcJMwuGwZL3wt9lsjlYDOxUApQK4uLO/pt1uS9aLgPrs//b2Jlm/dRwCOxUApQK46PE/FexUAJQKgFIBUCoASgVAqQAoFQClAqBUAJQKgFIBUCoASgVAqQB+AC4qzC0qVuCXAAAAAElFTkSuQmCC\" y=\"-21.809293\"/>\n   </g>\n   <g id=\"text_4\">\n    <!-- 1 -->\n    <defs>\n     <path d=\"M 7.625 0 \nL 7.625 7.46875 \nL 25.140625 7.46875 \nL 25.140625 60.40625 \nL 9.625 49.3125 \nL 9.625 57.625 \nL 25.875 68.796875 \nL 33.984375 68.796875 \nL 33.984375 7.46875 \nL 50.734375 7.46875 \nL 50.734375 0 \nz\n\" id=\"LiberationSans-31\"/>\n    </defs>\n    <g style=\"fill:#262626;\" transform=\"translate(370.128791 15.89625)scale(0.12 -0.12)\">\n     <use xlink:href=\"#LiberationSans-31\"/>\n    </g>\n   </g>\n  </g>\n </g>\n <defs>\n  <clipPath id=\"pe7e26442b2\">\n   <rect height=\"84.913043\" width=\"84.913043\" x=\"25.321875\" y=\"21.89625\"/>\n  </clipPath>\n  <clipPath id=\"p70b3473006\">\n   <rect height=\"84.913043\" width=\"84.913043\" x=\"127.217527\" y=\"21.89625\"/>\n  </clipPath>\n  <clipPath id=\"p4e1e35ca14\">\n   <rect height=\"84.913043\" width=\"84.913043\" x=\"229.113179\" y=\"21.89625\"/>\n  </clipPath>\n  <clipPath id=\"p112e272fd0\">\n   <rect height=\"84.913043\" width=\"84.913043\" x=\"331.008832\" y=\"21.89625\"/>\n  </clipPath>\n </defs>\n</svg>\n"
          },
          "metadata": {
            "tags": []
          }
        }
      ]
    }
  ]
}